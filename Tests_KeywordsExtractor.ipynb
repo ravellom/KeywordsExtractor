{
  "nbformat": 4,
  "nbformat_minor": 0,
  "metadata": {
    "colab": {
      "provenance": []
    },
    "kernelspec": {
      "name": "python3",
      "display_name": "Python 3"
    },
    "language_info": {
      "name": "python"
    }
  },
  "cells": [
    {
      "cell_type": "code",
      "execution_count": 19,
      "metadata": {
        "colab": {
          "base_uri": "https://localhost:8080/"
        },
        "id": "4REMmBasjF8m",
        "outputId": "9ba2af03-7fb8-4f2a-a880-b69461c1c74c"
      },
      "outputs": [
        {
          "output_type": "stream",
          "name": "stdout",
          "text": [
            "Archivo cargado exitosamente.\n",
            "\n",
            "Información general del DataFrame:\n",
            "\n",
            "Verificación de valores nulos en el DataFrame:\n",
            "Authors                0\n",
            "Author full names      0\n",
            "Author(s) ID           0\n",
            "Title                  0\n",
            "Year                   0\n",
            "Source title           0\n",
            "Volume                39\n",
            "Issue                  0\n",
            "Art. No.              22\n",
            "Page start           194\n",
            "Page end             194\n",
            "Page count           194\n",
            "Cited by               0\n",
            "DOI                    0\n",
            "Link                   0\n",
            "Abstract               0\n",
            "Author Keywords        9\n",
            "Index Keywords       195\n",
            "Document Type          0\n",
            "Publication Stage      0\n",
            "Open Access            2\n",
            "Source                 0\n",
            "EID                    0\n",
            "dtype: int64\n"
          ]
        }
      ],
      "source": [
        "import pandas as pd\n",
        "from google.colab import files\n",
        "import io\n",
        "\n",
        "archivo_csv = 'https://raw.githubusercontent.com/ravellom/KeywordsExtractor/main/scopus_RED.csv'\n",
        "#df = pd.read_csv(archivo_csv, sep=';')\n",
        "\n",
        "# Cargar el archivo CSV, especificando el delimitador y manejando correctamente las comillas\n",
        "try:\n",
        "    df = pd.read_csv(archivo_csv, delimiter=',', quotechar='\"', encoding='utf-8-sig', on_bad_lines='skip')\n",
        "    print(\"Archivo cargado exitosamente.\")\n",
        "except Exception as e:\n",
        "    print(f\"Error al cargar el archivo: {e}\")\n",
        "\n",
        "# Información general del DataFrame, incluyendo el número de filas, columnas y tipo de datos\n",
        "print(\"\\nInformación general del DataFrame:\")\n",
        "#df.info()\n",
        "\n",
        "# Verificar si hay valores nulos en el DataFrame\n",
        "print(\"\\nVerificación de valores nulos en el DataFrame:\")\n",
        "print(df.isnull().sum())"
      ]
    }
  ]
}